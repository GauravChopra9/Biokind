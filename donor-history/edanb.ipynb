{
 "cells": [
  {
   "cell_type": "code",
   "execution_count": 1,
   "id": "feb48562-790a-44fe-abfd-875a2a0bf61f",
   "metadata": {},
   "outputs": [],
   "source": [
    "import pandas as pd\n",
    "import matplotlib.pyplot as plt"
   ]
  },
  {
   "cell_type": "code",
   "execution_count": 2,
   "id": "53d45dba-9e09-47c7-a13b-ae0558f1cc1e",
   "metadata": {},
   "outputs": [],
   "source": [
    "path_ac_arch_18 = \"data/2018 Annual Campaign - Archived.csv\"\n",
    "path_ac_arch_19 = \"data/2019 Annual Campaign - Archived.csv\"\n",
    "path_ac_arch_20 = \"data/2020 Annual Campaign - Archived.csv\"\n",
    "path_ac_arch_21 = \"data/2021 Annual Campaign - Archived.csv\"\n",
    "path_ac_act_22 = \"data/2022 Annual Campaign - Active.csv\"\n",
    "path_ac_act_23 = \"data/2023 Annual Campaign - Active.csv\"\n",
    "path_ac_act_18 = \"data/2024 Annual Campaign - Active.csv\"\n",
    "\n",
    "path_dd_nbc_21 = \"data/2021 NBC 15 Community Diaper Driver.csv\"\n",
    "path_dd_nbc_22 = \"data/2022 NBC 15 Community Diaper Driver.csv\"\n",
    "path_dd_nbc_23 = \"data/2023 NBC 15 Community Diaper Driver.csv\"\n",
    "path_dd_wmtv_24 = \"data/2024 WMTV Diaper Drive.csv\"\n",
    "\n",
    "\n",
    "path_bb_act_22 = \"data/2022 Bottoms Up Ball - Active.csv\"\n",
    "path_bb_act_23 = \"data/2023 Bottoms Up Ball - Active.csv\""
   ]
  },
  {
   "cell_type": "code",
   "execution_count": 3,
   "id": "0612b0a6-7619-48b9-a7ad-fb1f0aadb770",
   "metadata": {},
   "outputs": [],
   "source": [
    "# Paths for 'ac' category\n",
    "# paths_ac = [\n",
    "#     path_ac_arch_18,\n",
    "#     path_ac_arch_19,\n",
    "#     path_ac_arch_20,\n",
    "#     path_ac_arch_21,\n",
    "#     path_ac_act_22,\n",
    "#     path_ac_act_23,\n",
    "#     path_ac_act_18\n",
    "# ]\n",
    "\n",
    "# # Paths for 'dd' category\n",
    "# paths_dd = [\n",
    "#     path_dd_nbc_21,\n",
    "#     path_dd_nbc_22,\n",
    "#     path_dd_nbc_23,\n",
    "#     path_dd_wmtv_24\n",
    "# ]\n",
    "\n",
    "# # Paths for 'bb' category\n",
    "# paths_bb = [\n",
    "#     path_bb_act_22,\n",
    "#     path_bb_act_23\n",
    "# ]\n",
    "\n",
    "# Combine all the paths into one list\n",
    "paths = [\n",
    "    path_ac_arch_18, path_ac_arch_19, path_ac_arch_20, path_ac_arch_21,\n",
    "    path_ac_act_22, path_ac_act_23, path_ac_act_18,\n",
    "    path_dd_nbc_21, path_dd_nbc_22, path_dd_nbc_23, path_dd_wmtv_24,\n",
    "    path_bb_act_22, path_bb_act_23\n",
    "]"
   ]
  },
  {
   "cell_type": "code",
   "execution_count": null,
   "id": "ed99a67e-ae40-4943-bf89-35e25fdb447a",
   "metadata": {},
   "outputs": [],
   "source": []
  },
  {
   "cell_type": "code",
   "execution_count": 4,
   "id": "848d3cf2-d0fa-4a88-8e9d-ee9027007369",
   "metadata": {},
   "outputs": [],
   "source": [
    "def clean_data_ac(data, path): \n",
    "    data_ac = data.copy()\n",
    "    # get the year of the data and archive information\n",
    "    year = int(path.split('data/')[1].split()[0])\n",
    "    archived = \"Archive\" if \"Archive\" in path else \"Active\"\n",
    "    \n",
    "    #condensing city names, so that all of the same can be grouped together \n",
    "    city_replacements = {\n",
    "        'madison wi 53705 usa': 'madison',\n",
    "        'madison wi': 'madison',\n",
    "        'madison': 'madison',\n",
    "        'verona wi': 'verona',\n",
    "        'prairie du sac': 'prairie du sac',\n",
    "        'waterloo wi': 'waterloo',\n",
    "        'oregon wi': 'oregon',\n",
    "        'cambria wi': 'cambria',\n",
    "    }\n",
    "\n",
    "    data_ac['City'] = (\n",
    "        data_ac['City']\n",
    "        .str.lower()\n",
    "        .str.replace(r'[^\\w\\s]', '', regex=True)\n",
    "        .str.strip()\n",
    "    )\n",
    "\n",
    "    # clean up the city labels\n",
    "    data_ac['City'] = data_ac['City'].replace(city_replacements)\n",
    "    # Might remove later\n",
    "    #some rows had city = madison, state = unknown, changed the state of these rows to WI, so they could be grouped with the rest of the madison rows\n",
    "    data_ac.loc[(data_ac['City'] == 'madison') & (data_ac['State/Province'] == 'unknown'), 'State/Province'] = 'WI'\n",
    "\n",
    "    #changed 'NA' rows to unknown\n",
    "    data_ac['City'] = data_ac['City'].fillna('unknown')\n",
    "    data_ac['State/Province'] = data_ac['State/Province'].fillna('unknown')\n",
    "\n",
    "   \n",
    "\n",
    "\n",
    "    # Add columns\n",
    "    data_ac[\"Year\"] = year\n",
    "    data_ac[\"Archived/Active\"] = archived\n",
    "\n",
    "    return data_ac"
   ]
  },
  {
   "cell_type": "code",
   "execution_count": 5,
   "id": "218edb40-7212-47a1-832f-ce20cbb73f8c",
   "metadata": {},
   "outputs": [],
   "source": [
    "def combine_data(paths):\n",
    "    all_data = []\n",
    "    \n",
    "    for path in paths: \n",
    "        df = pd.read_csv(path)\n",
    "        df_clean = clean_data_ac(df, path)\n",
    "        all_data.append(df_clean)\n",
    "\n",
    "    full_data = pd.concat(all_data, ignore_index = True)\n",
    "    full_data.reset_index(drop = True, inplace = True)\n",
    "\n",
    "    return full_data"
   ]
  },
  {
   "cell_type": "code",
   "execution_count": 6,
   "id": "d74f72c7-5899-4471-ba6f-d0912bef8266",
   "metadata": {},
   "outputs": [],
   "source": [
    "full_data = combine_data(paths)"
   ]
  },
  {
   "cell_type": "code",
   "execution_count": 15,
   "id": "6c5713fa-b0f1-4fcb-a555-9805c9ba057d",
   "metadata": {},
   "outputs": [],
   "source": [
    "full_data.to_csv('data/clean_combined.csv', index=False)"
   ]
  },
  {
   "cell_type": "code",
   "execution_count": null,
   "id": "02fec09c-e39e-4c0f-a616-5d1d13499d3c",
   "metadata": {},
   "outputs": [],
   "source": []
  }
 ],
 "metadata": {
  "kernelspec": {
   "display_name": "Python 3 (ipykernel)",
   "language": "python",
   "name": "python3"
  },
  "language_info": {
   "codemirror_mode": {
    "name": "ipython",
    "version": 3
   },
   "file_extension": ".py",
   "mimetype": "text/x-python",
   "name": "python",
   "nbconvert_exporter": "python",
   "pygments_lexer": "ipython3",
   "version": "3.12.4"
  }
 },
 "nbformat": 4,
 "nbformat_minor": 5
}
