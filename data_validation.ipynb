{
 "cells": [
  {
   "cell_type": "code",
   "execution_count": 84,
   "metadata": {},
   "outputs": [],
   "source": [
    "from collections import Counter\n",
    "import pandas as pd\n",
    "import matplotlib.pyplot as plt\n",
    "FILE_PATHS = [r'cleaned_dataset\\df_2020_clean.csv', r'cleaned_dataset\\df_2021_clean.csv']"
   ]
  },
  {
   "cell_type": "code",
   "execution_count": 85,
   "metadata": {},
   "outputs": [],
   "source": [
    "df_2020 = pd.read_csv(FILE_PATHS[0], parse_dates=['donation_date'])\n",
    "df_2021 = pd.read_csv(FILE_PATHS[1], parse_dates=['donation_date'])"
   ]
  },
  {
   "cell_type": "code",
   "execution_count": 86,
   "metadata": {},
   "outputs": [
    {
     "data": {
      "text/plain": [
       "donation_id                       int64\n",
       "account_id                        int64\n",
       "shopping_card_id                  int64\n",
       "campaign_id                       int64\n",
       "donation_amount                 float64\n",
       "donation_date            datetime64[ns]\n",
       "account_type                     object\n",
       "full_name_(f)                    object\n",
       "company_name                     object\n",
       "city                             object\n",
       "address_line_1                   object\n",
       "state_or_province                object\n",
       "zip_code                         object\n",
       "campaign_name                    object\n",
       "purpose                          object\n",
       "fund                             object\n",
       "tender_type                      object\n",
       "tribute_full_name_(f)            object\n",
       "dtype: object"
      ]
     },
     "execution_count": 86,
     "metadata": {},
     "output_type": "execute_result"
    }
   ],
   "source": [
    "df_2020.dtypes\n",
    "# Need to apply pd.to_datetime on donation_date"
   ]
  },
  {
   "cell_type": "code",
   "execution_count": 87,
   "metadata": {},
   "outputs": [
    {
     "data": {
      "text/plain": [
       "donation_id                       int64\n",
       "account_id                        int64\n",
       "shopping_card_id                  int64\n",
       "campaign_id                       int64\n",
       "donation_amount                 float64\n",
       "donation_date            datetime64[ns]\n",
       "account_type                     object\n",
       "full_name_(f)                    object\n",
       "company_name                     object\n",
       "city                             object\n",
       "address_line_1                   object\n",
       "state_or_province                object\n",
       "zip_code                         object\n",
       "campaign_name                    object\n",
       "purpose                          object\n",
       "fund                             object\n",
       "tender_type                      object\n",
       "tribute_full_name_(f)            object\n",
       "dtype: object"
      ]
     },
     "execution_count": 87,
     "metadata": {},
     "output_type": "execute_result"
    }
   ],
   "source": [
    "df_2021.dtypes"
   ]
  },
  {
   "cell_type": "code",
   "execution_count": 88,
   "metadata": {},
   "outputs": [
    {
     "data": {
      "text/plain": [
       "Counter({2020: 376, 2022: 12, 2021: 5, 2024: 15})"
      ]
     },
     "execution_count": 88,
     "metadata": {},
     "output_type": "execute_result"
    }
   ],
   "source": [
    "Counter(df_2020['donation_date'].dt.year)\n",
    "# The 2020 dataset has records from 2021, 2022, 2024, most of which is from 2020"
   ]
  },
  {
   "cell_type": "code",
   "execution_count": 89,
   "metadata": {},
   "outputs": [
    {
     "data": {
      "text/plain": [
       "Counter({2021: 366, 2022: 60, 2023: 24, 2024: 11})"
      ]
     },
     "execution_count": 89,
     "metadata": {},
     "output_type": "execute_result"
    }
   ],
   "source": [
    "Counter(df_2021['donation_date'].dt.year)\n",
    "# The 2021 dataset has records from 2021, 2022, 2024, most of which is NOT 2021!"
   ]
  }
 ],
 "metadata": {
  "kernelspec": {
   "display_name": "Biokind5",
   "language": "python",
   "name": "python3"
  },
  "language_info": {
   "codemirror_mode": {
    "name": "ipython",
    "version": 3
   },
   "file_extension": ".py",
   "mimetype": "text/x-python",
   "name": "python",
   "nbconvert_exporter": "python",
   "pygments_lexer": "ipython3",
   "version": "3.8.20"
  }
 },
 "nbformat": 4,
 "nbformat_minor": 2
}
