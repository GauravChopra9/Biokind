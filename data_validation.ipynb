{
 "cells": [
  {
   "cell_type": "code",
   "execution_count": 53,
   "metadata": {},
   "outputs": [],
   "source": [
    "import pandas as pd\n",
    "FILE_PATHS = [r'cleaned_dataset\\df_2020_clean.csv', r'cleaned_dataset\\df_2021_clean.csv']"
   ]
  },
  {
   "cell_type": "code",
   "execution_count": 54,
   "metadata": {},
   "outputs": [],
   "source": [
    "df_2020 = pd.read_csv(FILE_PATHS[0])\n",
    "df_2021 = pd.read_csv(FILE_PATHS[0])"
   ]
  },
  {
   "cell_type": "code",
   "execution_count": 55,
   "metadata": {},
   "outputs": [
    {
     "data": {
      "text/plain": [
       "array([2020, 2022, 2021, 2024], dtype=int64)"
      ]
     },
     "execution_count": 55,
     "metadata": {},
     "output_type": "execute_result"
    }
   ],
   "source": [
    "pd.to_datetime(df_2020['donation_date']).dt.year.unique()\n",
    "# The 2020 dataset has records from 2021, 2022, 2024"
   ]
  },
  {
   "cell_type": "code",
   "execution_count": 56,
   "metadata": {},
   "outputs": [
    {
     "data": {
      "text/plain": [
       "array([2020, 2022, 2021, 2024], dtype=int64)"
      ]
     },
     "execution_count": 56,
     "metadata": {},
     "output_type": "execute_result"
    }
   ],
   "source": [
    "pd.to_datetime(df_2021['donation_date']).dt.year.unique()\n",
    "# The 2021 dataset has records from 2021, 2022, 2024"
   ]
  },
  {
   "cell_type": "code",
   "execution_count": 57,
   "metadata": {},
   "outputs": [],
   "source": [
    "def count_unmatching_years(df, expected_year):\n",
    "    return len(df[pd.to_datetime(df['donation_date']).dt.year != expected_year])"
   ]
  },
  {
   "cell_type": "code",
   "execution_count": 58,
   "metadata": {},
   "outputs": [
    {
     "name": "stdout",
     "output_type": "stream",
     "text": [
      "32\n",
      "408\n"
     ]
    }
   ],
   "source": [
    "print(count_unmatching_years(df_2020, 2020))\n",
    "print(len(df_2020))\n",
    "# The 2020 dataset has 32 rows with year not 2020, which is 8% of the dataset"
   ]
  },
  {
   "cell_type": "code",
   "execution_count": 59,
   "metadata": {},
   "outputs": [
    {
     "name": "stdout",
     "output_type": "stream",
     "text": [
      "403\n",
      "408\n"
     ]
    }
   ],
   "source": [
    "print(count_unmatching_years(df_2021, 2021))\n",
    "print(len(df_2021))\n",
    "\n",
    "# The 2021 dataset has 403 rows with year not 2021, which is roughly 99% of the dataset!"
   ]
  },
  {
   "cell_type": "code",
   "execution_count": 66,
   "metadata": {},
   "outputs": [
    {
     "data": {
      "text/plain": [
       "259    08/20/2020\n",
       "348    02/22/2024\n",
       "61     02/22/2024\n",
       "178    07/30/2020\n",
       "360    08/19/2020\n",
       "279    03/18/2020\n",
       "6      12/07/2020\n",
       "330    02/24/2022\n",
       "299    09/23/2020\n",
       "252    12/09/2020\n",
       "Name: donation_date, dtype: object"
      ]
     },
     "execution_count": 66,
     "metadata": {},
     "output_type": "execute_result"
    }
   ],
   "source": [
    "df_2021.sample(n = 10)['donation_date']\n",
    "# Sampling random rows, we can see most of donation_date's year is not 2021, which is alarming"
   ]
  }
 ],
 "metadata": {
  "kernelspec": {
   "display_name": "Biokind5",
   "language": "python",
   "name": "python3"
  },
  "language_info": {
   "codemirror_mode": {
    "name": "ipython",
    "version": 3
   },
   "file_extension": ".py",
   "mimetype": "text/x-python",
   "name": "python",
   "nbconvert_exporter": "python",
   "pygments_lexer": "ipython3",
   "version": "3.8.20"
  }
 },
 "nbformat": 4,
 "nbformat_minor": 2
}
