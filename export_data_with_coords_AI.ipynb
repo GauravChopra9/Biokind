{
 "cells": [
  {
   "cell_type": "code",
   "execution_count": 1,
   "metadata": {},
   "outputs": [],
   "source": [
    "# Import pandas\n",
    "import pandas as pd"
   ]
  },
  {
   "cell_type": "code",
   "execution_count": 2,
   "metadata": {},
   "outputs": [],
   "source": [
    "FILE_PATHS = [r'dataset\\2020 Annual Campaign - Archived.csv', r'dataset\\2021 Annual Campaign - Archived.csv']"
   ]
  },
  {
   "cell_type": "code",
   "execution_count": 3,
   "metadata": {},
   "outputs": [],
   "source": [
    "df_2020 = pd.read_csv(FILE_PATHS[0])\n",
    "df_2021 = pd.read_csv(FILE_PATHS[1])\n",
    "df_2020.drop(axis=1, columns=['Unnamed: 18'], inplace=True) # No idea why this column exists\n",
    "df_2021.drop(axis=1, columns=['Unnamed: 18'], inplace=True)"
   ]
  },
  {
   "cell_type": "code",
   "execution_count": 4,
   "metadata": {},
   "outputs": [],
   "source": [
    "df_2020 = df_2020[['State/Province', 'City', 'Donation Amount']]\n",
    "df_2021 = df_2021[['State/Province', 'City', 'Donation Amount']]"
   ]
  },
  {
   "cell_type": "code",
   "execution_count": 5,
   "metadata": {},
   "outputs": [],
   "source": [
    "df_2020.fillna('Unknown', inplace=True)\n",
    "df_2020 = df_2020.applymap(lambda x: x.strip() if isinstance(x, str) else x) # strip everything\n",
    "\n",
    "df_2021.fillna('Unknown', inplace=True)\n",
    "df_2021 = df_2021.applymap(lambda x: x.strip() if isinstance(x, str) else x)"
   ]
  },
  {
   "cell_type": "code",
   "execution_count": 6,
   "metadata": {},
   "outputs": [],
   "source": [
    "df_2020['City'] = df_2020['City'].apply(lambda x: x.lower())\n",
    "df_2021['City'] = df_2021['City'].apply(lambda x: x.lower())"
   ]
  },
  {
   "cell_type": "code",
   "execution_count": 7,
   "metadata": {},
   "outputs": [],
   "source": [
    "df_2020 = df_2020[(df_2020['City'] != 'unknown') & (df_2020['State/Province'] != 'Unknown')]\n",
    "df_2021 = df_2021[(df_2021['City'] != 'unknown') & (df_2021['State/Province'] != 'Unknown')]"
   ]
  },
  {
   "cell_type": "code",
   "execution_count": 8,
   "metadata": {},
   "outputs": [],
   "source": [
    "df_2020 = df_2020.groupby(['State/Province', 'City']).agg({'Donation Amount': 'sum'}).reset_index()\n",
    "df_2021 = df_2021.groupby(['State/Province', 'City']).agg({'Donation Amount': 'sum'}).reset_index()"
   ]
  },
  {
   "cell_type": "code",
   "execution_count": 9,
   "metadata": {},
   "outputs": [
    {
     "data": {
      "text/html": [
       "<div>\n",
       "<style scoped>\n",
       "    .dataframe tbody tr th:only-of-type {\n",
       "        vertical-align: middle;\n",
       "    }\n",
       "\n",
       "    .dataframe tbody tr th {\n",
       "        vertical-align: top;\n",
       "    }\n",
       "\n",
       "    .dataframe thead th {\n",
       "        text-align: right;\n",
       "    }\n",
       "</style>\n",
       "<table border=\"1\" class=\"dataframe\">\n",
       "  <thead>\n",
       "    <tr style=\"text-align: right;\">\n",
       "      <th></th>\n",
       "      <th>State/Province</th>\n",
       "      <th>City</th>\n",
       "      <th>Donation Amount</th>\n",
       "    </tr>\n",
       "  </thead>\n",
       "  <tbody>\n",
       "    <tr>\n",
       "      <th>0</th>\n",
       "      <td>CA</td>\n",
       "      <td>la mesa</td>\n",
       "      <td>26.06</td>\n",
       "    </tr>\n",
       "    <tr>\n",
       "      <th>1</th>\n",
       "      <td>CA</td>\n",
       "      <td>san francisco</td>\n",
       "      <td>100.00</td>\n",
       "    </tr>\n",
       "    <tr>\n",
       "      <th>2</th>\n",
       "      <td>DC</td>\n",
       "      <td>washington</td>\n",
       "      <td>50.00</td>\n",
       "    </tr>\n",
       "    <tr>\n",
       "      <th>3</th>\n",
       "      <td>FL</td>\n",
       "      <td>celebration</td>\n",
       "      <td>150.00</td>\n",
       "    </tr>\n",
       "    <tr>\n",
       "      <th>4</th>\n",
       "      <td>MN</td>\n",
       "      <td>richfield</td>\n",
       "      <td>275.00</td>\n",
       "    </tr>\n",
       "  </tbody>\n",
       "</table>\n",
       "</div>"
      ],
      "text/plain": [
       "  State/Province           City  Donation Amount\n",
       "0             CA        la mesa            26.06\n",
       "1             CA  san francisco           100.00\n",
       "2             DC     washington            50.00\n",
       "3             FL    celebration           150.00\n",
       "4             MN      richfield           275.00"
      ]
     },
     "execution_count": 9,
     "metadata": {},
     "output_type": "execute_result"
    }
   ],
   "source": [
    "df_2020.head(5)"
   ]
  },
  {
   "cell_type": "code",
   "execution_count": 10,
   "metadata": {},
   "outputs": [
    {
     "data": {
      "text/html": [
       "<div>\n",
       "<style scoped>\n",
       "    .dataframe tbody tr th:only-of-type {\n",
       "        vertical-align: middle;\n",
       "    }\n",
       "\n",
       "    .dataframe tbody tr th {\n",
       "        vertical-align: top;\n",
       "    }\n",
       "\n",
       "    .dataframe thead th {\n",
       "        text-align: right;\n",
       "    }\n",
       "</style>\n",
       "<table border=\"1\" class=\"dataframe\">\n",
       "  <thead>\n",
       "    <tr style=\"text-align: right;\">\n",
       "      <th></th>\n",
       "      <th>State/Province</th>\n",
       "      <th>City</th>\n",
       "      <th>Donation Amount</th>\n",
       "      <th>lat</th>\n",
       "      <th>long</th>\n",
       "    </tr>\n",
       "  </thead>\n",
       "  <tbody>\n",
       "    <tr>\n",
       "      <th>0</th>\n",
       "      <td>CA</td>\n",
       "      <td>la mesa</td>\n",
       "      <td>26.06</td>\n",
       "      <td>0</td>\n",
       "      <td>0</td>\n",
       "    </tr>\n",
       "    <tr>\n",
       "      <th>1</th>\n",
       "      <td>CA</td>\n",
       "      <td>san francisco</td>\n",
       "      <td>100.00</td>\n",
       "      <td>0</td>\n",
       "      <td>0</td>\n",
       "    </tr>\n",
       "    <tr>\n",
       "      <th>2</th>\n",
       "      <td>DC</td>\n",
       "      <td>washington</td>\n",
       "      <td>50.00</td>\n",
       "      <td>0</td>\n",
       "      <td>0</td>\n",
       "    </tr>\n",
       "    <tr>\n",
       "      <th>3</th>\n",
       "      <td>FL</td>\n",
       "      <td>celebration</td>\n",
       "      <td>150.00</td>\n",
       "      <td>0</td>\n",
       "      <td>0</td>\n",
       "    </tr>\n",
       "    <tr>\n",
       "      <th>4</th>\n",
       "      <td>MN</td>\n",
       "      <td>richfield</td>\n",
       "      <td>275.00</td>\n",
       "      <td>0</td>\n",
       "      <td>0</td>\n",
       "    </tr>\n",
       "  </tbody>\n",
       "</table>\n",
       "</div>"
      ],
      "text/plain": [
       "  State/Province           City  Donation Amount  lat  long\n",
       "0             CA        la mesa            26.06    0     0\n",
       "1             CA  san francisco           100.00    0     0\n",
       "2             DC     washington            50.00    0     0\n",
       "3             FL    celebration           150.00    0     0\n",
       "4             MN      richfield           275.00    0     0"
      ]
     },
     "execution_count": 10,
     "metadata": {},
     "output_type": "execute_result"
    }
   ],
   "source": [
    "df_2020[['lat', 'long']] = 0\n",
    "df_2021[['lat', 'long']] = 0\n",
    "df_2020.head(5)"
   ]
  },
  {
   "cell_type": "code",
   "execution_count": 11,
   "metadata": {},
   "outputs": [],
   "source": [
    "df_2020.to_csv('intermediate_csvs/For asking AI/2020_unfilled_latlong.csv', index=False)\n",
    "df_2021.to_csv('intermediate_csvs/For asking AI/2021_unfilled_latlong.csv', index=False)"
   ]
  },
  {
   "cell_type": "code",
   "execution_count": 12,
   "metadata": {},
   "outputs": [
    {
     "data": {
      "text/html": [
       "<div>\n",
       "<style scoped>\n",
       "    .dataframe tbody tr th:only-of-type {\n",
       "        vertical-align: middle;\n",
       "    }\n",
       "\n",
       "    .dataframe tbody tr th {\n",
       "        vertical-align: top;\n",
       "    }\n",
       "\n",
       "    .dataframe thead th {\n",
       "        text-align: right;\n",
       "    }\n",
       "</style>\n",
       "<table border=\"1\" class=\"dataframe\">\n",
       "  <thead>\n",
       "    <tr style=\"text-align: right;\">\n",
       "      <th></th>\n",
       "      <th>City</th>\n",
       "      <th>State/Province</th>\n",
       "      <th>lat</th>\n",
       "      <th>long</th>\n",
       "    </tr>\n",
       "  </thead>\n",
       "  <tbody>\n",
       "    <tr>\n",
       "      <th>0</th>\n",
       "      <td>la mesa</td>\n",
       "      <td>CA</td>\n",
       "      <td>32.769500</td>\n",
       "      <td>-117.020300</td>\n",
       "    </tr>\n",
       "    <tr>\n",
       "      <th>1</th>\n",
       "      <td>san francisco</td>\n",
       "      <td>CA</td>\n",
       "      <td>37.773972</td>\n",
       "      <td>-122.431297</td>\n",
       "    </tr>\n",
       "    <tr>\n",
       "      <th>2</th>\n",
       "      <td>washington</td>\n",
       "      <td>DC</td>\n",
       "      <td>38.895100</td>\n",
       "      <td>-77.036400</td>\n",
       "    </tr>\n",
       "    <tr>\n",
       "      <th>3</th>\n",
       "      <td>celebration</td>\n",
       "      <td>FL</td>\n",
       "      <td>28.325289</td>\n",
       "      <td>-81.533127</td>\n",
       "    </tr>\n",
       "    <tr>\n",
       "      <th>4</th>\n",
       "      <td>richfield</td>\n",
       "      <td>MN</td>\n",
       "      <td>44.883244</td>\n",
       "      <td>-93.286240</td>\n",
       "    </tr>\n",
       "  </tbody>\n",
       "</table>\n",
       "</div>"
      ],
      "text/plain": [
       "            City State/Province        lat        long\n",
       "0        la mesa             CA  32.769500 -117.020300\n",
       "1  san francisco             CA  37.773972 -122.431297\n",
       "2     washington             DC  38.895100  -77.036400\n",
       "3    celebration             FL  28.325289  -81.533127\n",
       "4      richfield             MN  44.883244  -93.286240"
      ]
     },
     "execution_count": 12,
     "metadata": {},
     "output_type": "execute_result"
    }
   ],
   "source": [
    "# After asking AI\n",
    "ai = pd.read_csv('intermediate_csvs/For asking AI/AI_response.csv')\n",
    "ai.head(5)"
   ]
  },
  {
   "cell_type": "code",
   "execution_count": 13,
   "metadata": {},
   "outputs": [
    {
     "data": {
      "text/html": [
       "<div>\n",
       "<style scoped>\n",
       "    .dataframe tbody tr th:only-of-type {\n",
       "        vertical-align: middle;\n",
       "    }\n",
       "\n",
       "    .dataframe tbody tr th {\n",
       "        vertical-align: top;\n",
       "    }\n",
       "\n",
       "    .dataframe thead th {\n",
       "        text-align: right;\n",
       "    }\n",
       "</style>\n",
       "<table border=\"1\" class=\"dataframe\">\n",
       "  <thead>\n",
       "    <tr style=\"text-align: right;\">\n",
       "      <th></th>\n",
       "      <th>State/Province</th>\n",
       "      <th>City</th>\n",
       "      <th>Donation Amount</th>\n",
       "      <th>lat</th>\n",
       "      <th>long</th>\n",
       "    </tr>\n",
       "  </thead>\n",
       "  <tbody>\n",
       "    <tr>\n",
       "      <th>0</th>\n",
       "      <td>CA</td>\n",
       "      <td>la mesa</td>\n",
       "      <td>26.06</td>\n",
       "      <td>32.769500</td>\n",
       "      <td>-117.020300</td>\n",
       "    </tr>\n",
       "    <tr>\n",
       "      <th>1</th>\n",
       "      <td>CA</td>\n",
       "      <td>san francisco</td>\n",
       "      <td>100.00</td>\n",
       "      <td>37.773972</td>\n",
       "      <td>-122.431297</td>\n",
       "    </tr>\n",
       "    <tr>\n",
       "      <th>2</th>\n",
       "      <td>DC</td>\n",
       "      <td>washington</td>\n",
       "      <td>50.00</td>\n",
       "      <td>38.895100</td>\n",
       "      <td>-77.036400</td>\n",
       "    </tr>\n",
       "    <tr>\n",
       "      <th>3</th>\n",
       "      <td>FL</td>\n",
       "      <td>celebration</td>\n",
       "      <td>150.00</td>\n",
       "      <td>28.325289</td>\n",
       "      <td>-81.533127</td>\n",
       "    </tr>\n",
       "    <tr>\n",
       "      <th>4</th>\n",
       "      <td>MN</td>\n",
       "      <td>richfield</td>\n",
       "      <td>275.00</td>\n",
       "      <td>44.883244</td>\n",
       "      <td>-93.286240</td>\n",
       "    </tr>\n",
       "  </tbody>\n",
       "</table>\n",
       "</div>"
      ],
      "text/plain": [
       "  State/Province           City  Donation Amount        lat        long\n",
       "0             CA        la mesa            26.06  32.769500 -117.020300\n",
       "1             CA  san francisco           100.00  37.773972 -122.431297\n",
       "2             DC     washington            50.00  38.895100  -77.036400\n",
       "3             FL    celebration           150.00  28.325289  -81.533127\n",
       "4             MN      richfield           275.00  44.883244  -93.286240"
      ]
     },
     "execution_count": 13,
     "metadata": {},
     "output_type": "execute_result"
    }
   ],
   "source": [
    "df_2020 = df_2020.merge(ai, how='left', on='City')\n",
    "df_2020.drop(axis=1, columns=['lat_x', 'long_x', 'State/Province_y'], inplace=True)\n",
    "df_2020.rename(columns={'State/Province_x': 'State/Province', 'lat_y': 'lat', 'long_y': 'long'}, inplace=True)\n",
    "df_2020.head(5)"
   ]
  },
  {
   "cell_type": "code",
   "execution_count": 14,
   "metadata": {},
   "outputs": [
    {
     "data": {
      "text/html": [
       "<div>\n",
       "<style scoped>\n",
       "    .dataframe tbody tr th:only-of-type {\n",
       "        vertical-align: middle;\n",
       "    }\n",
       "\n",
       "    .dataframe tbody tr th {\n",
       "        vertical-align: top;\n",
       "    }\n",
       "\n",
       "    .dataframe thead th {\n",
       "        text-align: right;\n",
       "    }\n",
       "</style>\n",
       "<table border=\"1\" class=\"dataframe\">\n",
       "  <thead>\n",
       "    <tr style=\"text-align: right;\">\n",
       "      <th></th>\n",
       "      <th>State/Province</th>\n",
       "      <th>City</th>\n",
       "      <th>Donation Amount</th>\n",
       "      <th>lat</th>\n",
       "      <th>long</th>\n",
       "    </tr>\n",
       "  </thead>\n",
       "  <tbody>\n",
       "    <tr>\n",
       "      <th>0</th>\n",
       "      <td>IL</td>\n",
       "      <td>willow springs</td>\n",
       "      <td>51.8</td>\n",
       "      <td>41.7359</td>\n",
       "      <td>-87.8778</td>\n",
       "    </tr>\n",
       "    <tr>\n",
       "      <th>1</th>\n",
       "      <td>MA</td>\n",
       "      <td>andover</td>\n",
       "      <td>150.0</td>\n",
       "      <td>42.6584</td>\n",
       "      <td>-71.1370</td>\n",
       "    </tr>\n",
       "    <tr>\n",
       "      <th>2</th>\n",
       "      <td>MA</td>\n",
       "      <td>andover</td>\n",
       "      <td>150.0</td>\n",
       "      <td>45.2333</td>\n",
       "      <td>-93.2916</td>\n",
       "    </tr>\n",
       "    <tr>\n",
       "      <th>3</th>\n",
       "      <td>MA</td>\n",
       "      <td>boston</td>\n",
       "      <td>51.8</td>\n",
       "      <td>42.3601</td>\n",
       "      <td>-71.0589</td>\n",
       "    </tr>\n",
       "    <tr>\n",
       "      <th>4</th>\n",
       "      <td>MN</td>\n",
       "      <td>andover</td>\n",
       "      <td>51.8</td>\n",
       "      <td>42.6584</td>\n",
       "      <td>-71.1370</td>\n",
       "    </tr>\n",
       "  </tbody>\n",
       "</table>\n",
       "</div>"
      ],
      "text/plain": [
       "  State/Province            City  Donation Amount      lat     long\n",
       "0             IL  willow springs             51.8  41.7359 -87.8778\n",
       "1             MA         andover            150.0  42.6584 -71.1370\n",
       "2             MA         andover            150.0  45.2333 -93.2916\n",
       "3             MA          boston             51.8  42.3601 -71.0589\n",
       "4             MN         andover             51.8  42.6584 -71.1370"
      ]
     },
     "execution_count": 14,
     "metadata": {},
     "output_type": "execute_result"
    }
   ],
   "source": [
    "df_2021 = df_2021.merge(ai, how='left', on='City')\n",
    "df_2021.drop(axis=1, columns=['lat_x', 'long_x', 'State/Province_y'], inplace=True)\n",
    "df_2021.rename(columns={'State/Province_x': 'State/Province', 'lat_y': 'lat', 'long_y': 'long'}, inplace=True)\n",
    "df_2021.head(5)"
   ]
  },
  {
   "cell_type": "code",
   "execution_count": 15,
   "metadata": {},
   "outputs": [],
   "source": [
    "df_2020.to_csv('intermediate_csvs/For asking AI/2020_loc_latlongai.csv', index=False)\n",
    "df_2021.to_csv('intermediate_csvs/For asking AI/2021_loc_latlongai.csv', index=False)"
   ]
  }
 ],
 "metadata": {
  "kernelspec": {
   "display_name": "Biokind5",
   "language": "python",
   "name": "python3"
  },
  "language_info": {
   "codemirror_mode": {
    "name": "ipython",
    "version": 3
   },
   "file_extension": ".py",
   "mimetype": "text/x-python",
   "name": "python",
   "nbconvert_exporter": "python",
   "pygments_lexer": "ipython3",
   "version": "3.8.20"
  }
 },
 "nbformat": 4,
 "nbformat_minor": 2
}
